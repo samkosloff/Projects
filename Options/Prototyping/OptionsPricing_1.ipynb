{
 "cells": [
  {
   "cell_type": "code",
   "execution_count": 25,
   "id": "3dc24879-0ce2-4d55-bc99-bc0637fedc4f",
   "metadata": {},
   "outputs": [],
   "source": [
    "import pandas as pd\n",
    "import numpy as np\n",
    "import datetime\n",
    "from scipy.stats import norm\n",
    "import plotly.graph_objects as go"
   ]
  },
  {
   "cell_type": "code",
   "execution_count": 26,
   "id": "292326ff-25aa-4729-888f-95f5723b5062",
   "metadata": {},
   "outputs": [],
   "source": [
    "import matplotlib.pyplot as plt"
   ]
  },
  {
   "cell_type": "code",
   "execution_count": 27,
   "id": "65e5d3de-f84b-42b1-b38a-8042d2d18d6d",
   "metadata": {},
   "outputs": [],
   "source": [
    "# Set display options\n",
    "pd.set_option('display.max_rows', None)\n",
    "pd.set_option('display.max_columns', None)"
   ]
  },
  {
   "cell_type": "code",
   "execution_count": 28,
   "id": "25cb1722-8846-44ff-bfdb-057027964486",
   "metadata": {},
   "outputs": [],
   "source": [
    "#pd.reset_option('^display.', silent=True)"
   ]
  },
  {
   "cell_type": "code",
   "execution_count": 29,
   "id": "6deb59d9-3904-437f-8cab-b98aefa3c7aa",
   "metadata": {},
   "outputs": [
    {
     "ename": "FileNotFoundError",
     "evalue": "[Errno 2] No such file or directory: 'C:\\\\Users\\\\skosloff\\\\Documents\\\\Python Scripts\\\\AVGO_Data.xlsx'",
     "output_type": "error",
     "traceback": [
      "\u001b[1;31m---------------------------------------------------------------------------\u001b[0m",
      "\u001b[1;31mFileNotFoundError\u001b[0m                         Traceback (most recent call last)",
      "Cell \u001b[1;32mIn[29], line 5\u001b[0m\n\u001b[0;32m      2\u001b[0m file_path \u001b[38;5;241m=\u001b[39m \u001b[38;5;124mr\u001b[39m\u001b[38;5;124m'\u001b[39m\u001b[38;5;124mC:\u001b[39m\u001b[38;5;124m\\\u001b[39m\u001b[38;5;124mUsers\u001b[39m\u001b[38;5;124m\\\u001b[39m\u001b[38;5;124mskosloff\u001b[39m\u001b[38;5;124m\\\u001b[39m\u001b[38;5;124mDocuments\u001b[39m\u001b[38;5;124m\\\u001b[39m\u001b[38;5;124mPython Scripts\u001b[39m\u001b[38;5;124m\\\u001b[39m\u001b[38;5;124mAVGO_Data.xlsx\u001b[39m\u001b[38;5;124m'\u001b[39m\n\u001b[0;32m      4\u001b[0m \u001b[38;5;66;03m# Read the Excel file\u001b[39;00m\n\u001b[1;32m----> 5\u001b[0m data \u001b[38;5;241m=\u001b[39m pd\u001b[38;5;241m.\u001b[39mDataFrame(pd\u001b[38;5;241m.\u001b[39mread_excel(file_path, sheet_name\u001b[38;5;241m=\u001b[39m\u001b[38;5;124m'\u001b[39m\u001b[38;5;124mSheet1\u001b[39m\u001b[38;5;124m'\u001b[39m))\n",
      "File \u001b[1;32m~\\AppData\\Local\\anaconda3\\envs\\OptionsPrice\\Lib\\site-packages\\pandas\\io\\excel\\_base.py:495\u001b[0m, in \u001b[0;36mread_excel\u001b[1;34m(io, sheet_name, header, names, index_col, usecols, dtype, engine, converters, true_values, false_values, skiprows, nrows, na_values, keep_default_na, na_filter, verbose, parse_dates, date_parser, date_format, thousands, decimal, comment, skipfooter, storage_options, dtype_backend, engine_kwargs)\u001b[0m\n\u001b[0;32m    493\u001b[0m \u001b[38;5;28;01mif\u001b[39;00m \u001b[38;5;129;01mnot\u001b[39;00m \u001b[38;5;28misinstance\u001b[39m(io, ExcelFile):\n\u001b[0;32m    494\u001b[0m     should_close \u001b[38;5;241m=\u001b[39m \u001b[38;5;28;01mTrue\u001b[39;00m\n\u001b[1;32m--> 495\u001b[0m     io \u001b[38;5;241m=\u001b[39m ExcelFile(\n\u001b[0;32m    496\u001b[0m         io,\n\u001b[0;32m    497\u001b[0m         storage_options\u001b[38;5;241m=\u001b[39mstorage_options,\n\u001b[0;32m    498\u001b[0m         engine\u001b[38;5;241m=\u001b[39mengine,\n\u001b[0;32m    499\u001b[0m         engine_kwargs\u001b[38;5;241m=\u001b[39mengine_kwargs,\n\u001b[0;32m    500\u001b[0m     )\n\u001b[0;32m    501\u001b[0m \u001b[38;5;28;01melif\u001b[39;00m engine \u001b[38;5;129;01mand\u001b[39;00m engine \u001b[38;5;241m!=\u001b[39m io\u001b[38;5;241m.\u001b[39mengine:\n\u001b[0;32m    502\u001b[0m     \u001b[38;5;28;01mraise\u001b[39;00m \u001b[38;5;167;01mValueError\u001b[39;00m(\n\u001b[0;32m    503\u001b[0m         \u001b[38;5;124m\"\u001b[39m\u001b[38;5;124mEngine should not be specified when passing \u001b[39m\u001b[38;5;124m\"\u001b[39m\n\u001b[0;32m    504\u001b[0m         \u001b[38;5;124m\"\u001b[39m\u001b[38;5;124man ExcelFile - ExcelFile already has the engine set\u001b[39m\u001b[38;5;124m\"\u001b[39m\n\u001b[0;32m    505\u001b[0m     )\n",
      "File \u001b[1;32m~\\AppData\\Local\\anaconda3\\envs\\OptionsPrice\\Lib\\site-packages\\pandas\\io\\excel\\_base.py:1550\u001b[0m, in \u001b[0;36mExcelFile.__init__\u001b[1;34m(self, path_or_buffer, engine, storage_options, engine_kwargs)\u001b[0m\n\u001b[0;32m   1548\u001b[0m     ext \u001b[38;5;241m=\u001b[39m \u001b[38;5;124m\"\u001b[39m\u001b[38;5;124mxls\u001b[39m\u001b[38;5;124m\"\u001b[39m\n\u001b[0;32m   1549\u001b[0m \u001b[38;5;28;01melse\u001b[39;00m:\n\u001b[1;32m-> 1550\u001b[0m     ext \u001b[38;5;241m=\u001b[39m inspect_excel_format(\n\u001b[0;32m   1551\u001b[0m         content_or_path\u001b[38;5;241m=\u001b[39mpath_or_buffer, storage_options\u001b[38;5;241m=\u001b[39mstorage_options\n\u001b[0;32m   1552\u001b[0m     )\n\u001b[0;32m   1553\u001b[0m     \u001b[38;5;28;01mif\u001b[39;00m ext \u001b[38;5;129;01mis\u001b[39;00m \u001b[38;5;28;01mNone\u001b[39;00m:\n\u001b[0;32m   1554\u001b[0m         \u001b[38;5;28;01mraise\u001b[39;00m \u001b[38;5;167;01mValueError\u001b[39;00m(\n\u001b[0;32m   1555\u001b[0m             \u001b[38;5;124m\"\u001b[39m\u001b[38;5;124mExcel file format cannot be determined, you must specify \u001b[39m\u001b[38;5;124m\"\u001b[39m\n\u001b[0;32m   1556\u001b[0m             \u001b[38;5;124m\"\u001b[39m\u001b[38;5;124man engine manually.\u001b[39m\u001b[38;5;124m\"\u001b[39m\n\u001b[0;32m   1557\u001b[0m         )\n",
      "File \u001b[1;32m~\\AppData\\Local\\anaconda3\\envs\\OptionsPrice\\Lib\\site-packages\\pandas\\io\\excel\\_base.py:1402\u001b[0m, in \u001b[0;36minspect_excel_format\u001b[1;34m(content_or_path, storage_options)\u001b[0m\n\u001b[0;32m   1399\u001b[0m \u001b[38;5;28;01mif\u001b[39;00m \u001b[38;5;28misinstance\u001b[39m(content_or_path, \u001b[38;5;28mbytes\u001b[39m):\n\u001b[0;32m   1400\u001b[0m     content_or_path \u001b[38;5;241m=\u001b[39m BytesIO(content_or_path)\n\u001b[1;32m-> 1402\u001b[0m \u001b[38;5;28;01mwith\u001b[39;00m get_handle(\n\u001b[0;32m   1403\u001b[0m     content_or_path, \u001b[38;5;124m\"\u001b[39m\u001b[38;5;124mrb\u001b[39m\u001b[38;5;124m\"\u001b[39m, storage_options\u001b[38;5;241m=\u001b[39mstorage_options, is_text\u001b[38;5;241m=\u001b[39m\u001b[38;5;28;01mFalse\u001b[39;00m\n\u001b[0;32m   1404\u001b[0m ) \u001b[38;5;28;01mas\u001b[39;00m handle:\n\u001b[0;32m   1405\u001b[0m     stream \u001b[38;5;241m=\u001b[39m handle\u001b[38;5;241m.\u001b[39mhandle\n\u001b[0;32m   1406\u001b[0m     stream\u001b[38;5;241m.\u001b[39mseek(\u001b[38;5;241m0\u001b[39m)\n",
      "File \u001b[1;32m~\\AppData\\Local\\anaconda3\\envs\\OptionsPrice\\Lib\\site-packages\\pandas\\io\\common.py:882\u001b[0m, in \u001b[0;36mget_handle\u001b[1;34m(path_or_buf, mode, encoding, compression, memory_map, is_text, errors, storage_options)\u001b[0m\n\u001b[0;32m    873\u001b[0m         handle \u001b[38;5;241m=\u001b[39m \u001b[38;5;28mopen\u001b[39m(\n\u001b[0;32m    874\u001b[0m             handle,\n\u001b[0;32m    875\u001b[0m             ioargs\u001b[38;5;241m.\u001b[39mmode,\n\u001b[1;32m   (...)\u001b[0m\n\u001b[0;32m    878\u001b[0m             newline\u001b[38;5;241m=\u001b[39m\u001b[38;5;124m\"\u001b[39m\u001b[38;5;124m\"\u001b[39m,\n\u001b[0;32m    879\u001b[0m         )\n\u001b[0;32m    880\u001b[0m     \u001b[38;5;28;01melse\u001b[39;00m:\n\u001b[0;32m    881\u001b[0m         \u001b[38;5;66;03m# Binary mode\u001b[39;00m\n\u001b[1;32m--> 882\u001b[0m         handle \u001b[38;5;241m=\u001b[39m \u001b[38;5;28mopen\u001b[39m(handle, ioargs\u001b[38;5;241m.\u001b[39mmode)\n\u001b[0;32m    883\u001b[0m     handles\u001b[38;5;241m.\u001b[39mappend(handle)\n\u001b[0;32m    885\u001b[0m \u001b[38;5;66;03m# Convert BytesIO or file objects passed with an encoding\u001b[39;00m\n",
      "\u001b[1;31mFileNotFoundError\u001b[0m: [Errno 2] No such file or directory: 'C:\\\\Users\\\\skosloff\\\\Documents\\\\Python Scripts\\\\AVGO_Data.xlsx'"
     ]
    }
   ],
   "source": [
    "# Define the path to your Excel file\n",
    "file_path = r'C:\\Users\\skosloff\\Documents\\Python Scripts\\AVGO_Data.xlsx'\n",
    "\n",
    "# Read the Excel file\n",
    "data = pd.DataFrame(pd.read_excel(file_path, sheet_name='Sheet1'))"
   ]
  },
  {
   "cell_type": "code",
   "execution_count": null,
   "id": "4eedf4c4-08ed-4f3c-a656-98378fcdcf93",
   "metadata": {},
   "outputs": [],
   "source": [
    "data.rename(columns={'Unnamed: 0': 'Date', 'avgo us equity': 'Price'}, inplace=True)\n",
    "data.set_index('Date', inplace=True)\n",
    "data = data.iloc[:, :1]"
   ]
  },
  {
   "cell_type": "code",
   "execution_count": 30,
   "id": "4e2cce4b-7956-4700-8e07-b2672954aece",
   "metadata": {},
   "outputs": [
    {
     "ename": "NameError",
     "evalue": "name 'data' is not defined",
     "output_type": "error",
     "traceback": [
      "\u001b[1;31m---------------------------------------------------------------------------\u001b[0m",
      "\u001b[1;31mNameError\u001b[0m                                 Traceback (most recent call last)",
      "Cell \u001b[1;32mIn[30], line 1\u001b[0m\n\u001b[1;32m----> 1\u001b[0m data\n",
      "\u001b[1;31mNameError\u001b[0m: name 'data' is not defined"
     ]
    }
   ],
   "source": [
    "data"
   ]
  },
  {
   "cell_type": "code",
   "execution_count": 31,
   "id": "e039ddcd-c602-4909-b2b1-55d4abf1d283",
   "metadata": {},
   "outputs": [
    {
     "ename": "NameError",
     "evalue": "name 'data' is not defined",
     "output_type": "error",
     "traceback": [
      "\u001b[1;31m---------------------------------------------------------------------------\u001b[0m",
      "\u001b[1;31mNameError\u001b[0m                                 Traceback (most recent call last)",
      "Cell \u001b[1;32mIn[31], line 2\u001b[0m\n\u001b[0;32m      1\u001b[0m \u001b[38;5;66;03m# Calculate daily returns\u001b[39;00m\n\u001b[1;32m----> 2\u001b[0m data[\u001b[38;5;124m'\u001b[39m\u001b[38;5;124mDaily Return\u001b[39m\u001b[38;5;124m'\u001b[39m] \u001b[38;5;241m=\u001b[39m data[\u001b[38;5;124m'\u001b[39m\u001b[38;5;124mPrice\u001b[39m\u001b[38;5;124m'\u001b[39m]\u001b[38;5;241m.\u001b[39mpct_change()\n\u001b[0;32m      4\u001b[0m \u001b[38;5;66;03m# Calculate historical volatility\u001b[39;00m\n\u001b[0;32m      5\u001b[0m data[\u001b[38;5;124m'\u001b[39m\u001b[38;5;124mVolatility\u001b[39m\u001b[38;5;124m'\u001b[39m] \u001b[38;5;241m=\u001b[39m data[\u001b[38;5;124m'\u001b[39m\u001b[38;5;124mDaily Return\u001b[39m\u001b[38;5;124m'\u001b[39m]\u001b[38;5;241m.\u001b[39mstd() \u001b[38;5;241m*\u001b[39m np\u001b[38;5;241m.\u001b[39msqrt(\u001b[38;5;241m252\u001b[39m)\n",
      "\u001b[1;31mNameError\u001b[0m: name 'data' is not defined"
     ]
    }
   ],
   "source": [
    "# Calculate daily returns\n",
    "data['Daily Return'] = data['Price'].pct_change()\n",
    "\n",
    "# Calculate historical volatility\n",
    "data['Volatility'] = data['Daily Return'].std() * np.sqrt(252)"
   ]
  },
  {
   "cell_type": "code",
   "execution_count": 32,
   "id": "24a24b3a-e835-4c37-b048-45012cd3e5fb",
   "metadata": {},
   "outputs": [
    {
     "ename": "NameError",
     "evalue": "name 'data' is not defined",
     "output_type": "error",
     "traceback": [
      "\u001b[1;31m---------------------------------------------------------------------------\u001b[0m",
      "\u001b[1;31mNameError\u001b[0m                                 Traceback (most recent call last)",
      "Cell \u001b[1;32mIn[32], line 2\u001b[0m\n\u001b[0;32m      1\u001b[0m \u001b[38;5;66;03m# Store variables\u001b[39;00m\n\u001b[1;32m----> 2\u001b[0m sig \u001b[38;5;241m=\u001b[39m data[\u001b[38;5;124m'\u001b[39m\u001b[38;5;124mVolatility\u001b[39m\u001b[38;5;124m'\u001b[39m]\n\u001b[0;32m      3\u001b[0m S \u001b[38;5;241m=\u001b[39m data[\u001b[38;5;124m'\u001b[39m\u001b[38;5;124mPrice\u001b[39m\u001b[38;5;124m'\u001b[39m] \u001b[38;5;66;03m# Spot price\u001b[39;00m\n\u001b[0;32m      4\u001b[0m D \u001b[38;5;241m=\u001b[39m \u001b[38;5;241m0.0159\u001b[39m\n",
      "\u001b[1;31mNameError\u001b[0m: name 'data' is not defined"
     ]
    }
   ],
   "source": [
    "# Store variables\n",
    "sig = data['Volatility']\n",
    "S = data['Price'] # Spot price\n",
    "D = 0.0159\n",
    "E = 1850 # Strike price\n",
    "T = -(( (data.index - datetime.datetime.today()).days + 1 ) / 365)\n",
    "r = 0.0531\n",
    "d1 = ( np.log(S / E) + (r - D + 0.5 * sig**2)*T ) / ( sig * np.sqrt(T) )\n",
    "d2 = d1 - sig * np.sqrt(T) "
   ]
  },
  {
   "cell_type": "code",
   "execution_count": 33,
   "id": "1a62837d-c13a-43f5-8512-a8d5491eea55",
   "metadata": {},
   "outputs": [
    {
     "ename": "NameError",
     "evalue": "name 'S' is not defined",
     "output_type": "error",
     "traceback": [
      "\u001b[1;31m---------------------------------------------------------------------------\u001b[0m",
      "\u001b[1;31mNameError\u001b[0m                                 Traceback (most recent call last)",
      "Cell \u001b[1;32mIn[33], line 2\u001b[0m\n\u001b[0;32m      1\u001b[0m \u001b[38;5;66;03m# Call option\u001b[39;00m\n\u001b[1;32m----> 2\u001b[0m data[\u001b[38;5;124m'\u001b[39m\u001b[38;5;124mcall price\u001b[39m\u001b[38;5;124m'\u001b[39m] \u001b[38;5;241m=\u001b[39m S \u001b[38;5;241m*\u001b[39m np\u001b[38;5;241m.\u001b[39mexp(\u001b[38;5;241m-\u001b[39mD \u001b[38;5;241m*\u001b[39m T) \u001b[38;5;241m*\u001b[39m norm\u001b[38;5;241m.\u001b[39mcdf(d1) \u001b[38;5;241m-\u001b[39m ( E \u001b[38;5;241m*\u001b[39m np\u001b[38;5;241m.\u001b[39mexp(\u001b[38;5;241m-\u001b[39mr \u001b[38;5;241m*\u001b[39m T) \u001b[38;5;241m*\u001b[39m norm\u001b[38;5;241m.\u001b[39mcdf(d2) )\n\u001b[0;32m      4\u001b[0m \u001b[38;5;66;03m# Call delta: sensitivity to underlying\u001b[39;00m\n\u001b[0;32m      5\u001b[0m data[\u001b[38;5;124m'\u001b[39m\u001b[38;5;124mc_delta\u001b[39m\u001b[38;5;124m'\u001b[39m] \u001b[38;5;241m=\u001b[39m np\u001b[38;5;241m.\u001b[39mexp(\u001b[38;5;241m-\u001b[39mD \u001b[38;5;241m*\u001b[39m T) \u001b[38;5;241m*\u001b[39m norm\u001b[38;5;241m.\u001b[39mcdf(d1) \u001b[38;5;241m*\u001b[39m \u001b[38;5;241m100\u001b[39m\n",
      "\u001b[1;31mNameError\u001b[0m: name 'S' is not defined"
     ]
    }
   ],
   "source": [
    "# Call option\n",
    "data['call price'] = S * np.exp(-D * T) * norm.cdf(d1) - ( E * np.exp(-r * T) * norm.cdf(d2) )\n",
    "\n",
    "# Call delta: sensitivity to underlying\n",
    "data['c_delta'] = np.exp(-D * T) * norm.cdf(d1) * 100\n",
    "\n",
    "# Gamma: sensitivity of delta to underlying\n",
    "data['gamma'] = ( np.exp(-D * T) * norm.pdf(d1) ) / ( sig * S * np.sqrt(T) ) \n",
    "#( E * np.exp(-r * T ) ) * ( ( norm.pdf(d2) ) / ( S**2 * sig * np.sqrt(T) ) )\n",
    "\n",
    "# Call theta: sensititivty to time to expiry\n",
    "data['c_theta'] = ( ( -sig * S * norm.pdf(d1) / ( 2 * np.sqrt(T) ) ) - ( r * np.exp(-r * T) * E * norm.cdf(d2) ) ) / 252\n",
    "#data['c_theta'] = ( ( -sig * S * np.exp(-d1**2 / 2 ) / ( 2 * np.sqrt(T) * np.sqrt(2 * np.pi) ) ) - ( r * np.exp(-r * T) * E * norm.cdf (d2) ) ) /252 # Asim\n",
    "\n",
    "# Vega: sensitivity to volatility\n",
    "data['vega'] = S * np.sqrt(T) * norm.pdf(d1) / 100\n",
    "\n",
    "# Call rho (IR): sensitivity to interest rate\n",
    "data['c_rho'] = ( E * T * np.exp(-r * T) * norm.cdf(d2) ) / 100\n",
    "\n",
    "# Put option\n",
    "data['put price'] = -S * np.exp(-D * T) * norm.cdf(-d1) + E * np.exp(-r * T) * norm.cdf(-d2)\n",
    "\n",
    "# Put delta\n",
    "data['p_delta'] = np.exp(-D * T) * (norm.cdf(d1) - 1) * 100\n",
    "\n",
    "# Put theta\n",
    "data['p_theta'] = ( ( -sig * S * norm.pdf(d1) / ( 2 * np.sqrt(T) ) ) + ( r * np.exp(-r * T) * E * norm.cdf(-d2) ) ) / 252\n",
    "#( ( -sig * S * np.exp(-D * T) * norm.pdf(d1) ) / ( 2 * np.sqrt(T) ) ) - ( D * S * norm.cdf(d1) * np.exp(-D * T) ) + ( r * E * np.exp(-r * T) * norm.cdf(d2) ) # Willmott\n",
    "\n",
    "# Put rho (IR)\n",
    "data['p_rho'] = ( -E * T * np.exp(-r * T) * norm.cdf(-d2) ) / 100"
   ]
  },
  {
   "cell_type": "code",
   "execution_count": 34,
   "id": "4bf31bce-a8c4-4b0a-a707-ee89b703ef02",
   "metadata": {},
   "outputs": [
    {
     "ename": "NameError",
     "evalue": "name 'data' is not defined",
     "output_type": "error",
     "traceback": [
      "\u001b[1;31m---------------------------------------------------------------------------\u001b[0m",
      "\u001b[1;31mNameError\u001b[0m                                 Traceback (most recent call last)",
      "Cell \u001b[1;32mIn[34], line 1\u001b[0m\n\u001b[1;32m----> 1\u001b[0m data\n",
      "\u001b[1;31mNameError\u001b[0m: name 'data' is not defined"
     ]
    }
   ],
   "source": [
    "data"
   ]
  },
  {
   "cell_type": "code",
   "execution_count": 35,
   "id": "da04503f-9d9e-415a-a87a-b6b31be2b855",
   "metadata": {},
   "outputs": [
    {
     "ename": "NameError",
     "evalue": "name 'data' is not defined",
     "output_type": "error",
     "traceback": [
      "\u001b[1;31m---------------------------------------------------------------------------\u001b[0m",
      "\u001b[1;31mNameError\u001b[0m                                 Traceback (most recent call last)",
      "Cell \u001b[1;32mIn[35], line 1\u001b[0m\n\u001b[1;32m----> 1\u001b[0m plt\u001b[38;5;241m.\u001b[39mplot(data[\u001b[38;5;124m'\u001b[39m\u001b[38;5;124mPrice\u001b[39m\u001b[38;5;124m'\u001b[39m], data[\u001b[38;5;124m'\u001b[39m\u001b[38;5;124mcall price\u001b[39m\u001b[38;5;124m'\u001b[39m])\n",
      "\u001b[1;31mNameError\u001b[0m: name 'data' is not defined"
     ]
    }
   ],
   "source": [
    "plt.plot(data['Price'], data['call price'])"
   ]
  },
  {
   "cell_type": "code",
   "execution_count": 36,
   "id": "158c2207-5d81-4754-b441-88410c702dc3",
   "metadata": {},
   "outputs": [
    {
     "ename": "NameError",
     "evalue": "name 'T' is not defined",
     "output_type": "error",
     "traceback": [
      "\u001b[1;31m---------------------------------------------------------------------------\u001b[0m",
      "\u001b[1;31mNameError\u001b[0m                                 Traceback (most recent call last)",
      "Cell \u001b[1;32mIn[36], line 1\u001b[0m\n\u001b[1;32m----> 1\u001b[0m T\n",
      "\u001b[1;31mNameError\u001b[0m: name 'T' is not defined"
     ]
    }
   ],
   "source": [
    "T"
   ]
  },
  {
   "cell_type": "markdown",
   "id": "3fb64abf-0d82-4149-8dce-11b06c096443",
   "metadata": {},
   "source": [
    "### Strategy Table"
   ]
  },
  {
   "cell_type": "markdown",
   "id": "f6a7e3d5-befe-4099-bd1b-567ae14ca877",
   "metadata": {},
   "source": [
    "#### OTM Put Table"
   ]
  },
  {
   "cell_type": "code",
   "execution_count": 37,
   "id": "cd069f84-110b-40c8-8577-cfa8099fe6ef",
   "metadata": {},
   "outputs": [],
   "source": [
    "# Calculates payoff at expiry of %OTM put given some % move in the underlying\n",
    "# Note that moves in the underlying and %OTM are input as positive numbers\n",
    "def OTMput_T(S_0, move_und, OTM, prem):\n",
    "    E = S_0 * (1 - OTM / 100) # Strike as %OTM of S_0\n",
    "    S_T = S_0 * (1 - move_und / 100) # Underlying price at expiry as % move in spot price\n",
    "    #print(\"Strike:\", E)\n",
    "    #print(\"S_T:\", S_T)\n",
    "    return max(0, (E - S_T) / prem)"
   ]
  },
  {
   "cell_type": "code",
   "execution_count": 38,
   "id": "09140c0b-7df4-4894-8efb-fd605382eaf4",
   "metadata": {},
   "outputs": [
    {
     "data": {
      "text/plain": [
       "5.310909090909072"
      ]
     },
     "execution_count": 38,
     "metadata": {},
     "output_type": "execute_result"
    }
   ],
   "source": [
    "OTMput_T(554.99, 5, 3, 2.09)"
   ]
  },
  {
   "cell_type": "code",
   "execution_count": 39,
   "id": "b7e4aeb7-4982-4d01-99fa-0a1f266b1d5f",
   "metadata": {},
   "outputs": [],
   "source": [
    "# Give spot price\n",
    "S_0 = 554.99\n",
    "\n",
    "# Define table column and row headers\n",
    "percent_moves = np.array([2.5, 5, 7.5, 10])\n",
    "percent_OTMs = np.array([0, 3, 5, 10, 15])\n",
    "\n",
    "# Array of premia in dollars\n",
    "prems = np.array([6.33, 2.09, 1.09, 0.37, 0.08])\n",
    "\n",
    "\n",
    "# Create empty dataframe with moves in underlying as columns\n",
    "OTMput_table = pd.DataFrame(index=percent_OTMs, columns=percent_moves)\n",
    "\n",
    "# Update the dataframe with the new titles for columns and rows\n",
    "OTMput_table.columns.name = 'Moves in Underlying'\n",
    "OTMput_table.index.name = '% OTM'\n",
    "\n",
    "for i in OTMput_table.index:\n",
    "    for j in OTMput_table.columns:\n",
    "        OTMput_table.at[i, j] = OTMput_T(S_0, j, i, prems[np.where(OTMput_table.index == i)[0][0]])"
   ]
  },
  {
   "cell_type": "code",
   "execution_count": 40,
   "id": "e818b94f-9ff6-44d5-ac5a-900265e93fa5",
   "metadata": {},
   "outputs": [
    {
     "data": {
      "text/html": [
       "<div>\n",
       "<style scoped>\n",
       "    .dataframe tbody tr th:only-of-type {\n",
       "        vertical-align: middle;\n",
       "    }\n",
       "\n",
       "    .dataframe tbody tr th {\n",
       "        vertical-align: top;\n",
       "    }\n",
       "\n",
       "    .dataframe thead th {\n",
       "        text-align: right;\n",
       "    }\n",
       "</style>\n",
       "<table border=\"1\" class=\"dataframe\">\n",
       "  <thead>\n",
       "    <tr style=\"text-align: right;\">\n",
       "      <th>Moves in Underlying</th>\n",
       "      <th>2.5</th>\n",
       "      <th>5.0</th>\n",
       "      <th>7.5</th>\n",
       "      <th>10.0</th>\n",
       "    </tr>\n",
       "    <tr>\n",
       "      <th>% OTM</th>\n",
       "      <th></th>\n",
       "      <th></th>\n",
       "      <th></th>\n",
       "      <th></th>\n",
       "    </tr>\n",
       "  </thead>\n",
       "  <tbody>\n",
       "    <tr>\n",
       "      <th>0</th>\n",
       "      <td>2.191904</td>\n",
       "      <td>4.383807</td>\n",
       "      <td>6.575711</td>\n",
       "      <td>8.767615</td>\n",
       "    </tr>\n",
       "    <tr>\n",
       "      <th>3</th>\n",
       "      <td>0</td>\n",
       "      <td>5.310909</td>\n",
       "      <td>11.949545</td>\n",
       "      <td>18.588182</td>\n",
       "    </tr>\n",
       "    <tr>\n",
       "      <th>5</th>\n",
       "      <td>0</td>\n",
       "      <td>0</td>\n",
       "      <td>12.729128</td>\n",
       "      <td>25.458257</td>\n",
       "    </tr>\n",
       "    <tr>\n",
       "      <th>10</th>\n",
       "      <td>0</td>\n",
       "      <td>0</td>\n",
       "      <td>0</td>\n",
       "      <td>0</td>\n",
       "    </tr>\n",
       "    <tr>\n",
       "      <th>15</th>\n",
       "      <td>0</td>\n",
       "      <td>0</td>\n",
       "      <td>0</td>\n",
       "      <td>0</td>\n",
       "    </tr>\n",
       "  </tbody>\n",
       "</table>\n",
       "</div>"
      ],
      "text/plain": [
       "Moves in Underlying      2.5       5.0        7.5        10.0\n",
       "% OTM                                                        \n",
       "0                    2.191904  4.383807   6.575711   8.767615\n",
       "3                           0  5.310909  11.949545  18.588182\n",
       "5                           0         0  12.729128  25.458257\n",
       "10                          0         0          0          0\n",
       "15                          0         0          0          0"
      ]
     },
     "execution_count": 40,
     "metadata": {},
     "output_type": "execute_result"
    }
   ],
   "source": [
    "OTMput_table"
   ]
  },
  {
   "cell_type": "code",
   "execution_count": 41,
   "id": "dc208638-c31a-489e-8741-de9f1dc49639",
   "metadata": {},
   "outputs": [
    {
     "data": {
      "text/plain": [
       "0.08"
      ]
     },
     "execution_count": 41,
     "metadata": {},
     "output_type": "execute_result"
    }
   ],
   "source": [
    "prems[np.where(OTMput_table.index == 15)[0][0]]"
   ]
  },
  {
   "cell_type": "code",
   "execution_count": null,
   "id": "c7979158-5de4-4c0d-91b6-b6f9f8ea720c",
   "metadata": {},
   "outputs": [],
   "source": []
  },
  {
   "cell_type": "code",
   "execution_count": null,
   "id": "10d9f10c-78ca-4697-91e5-be176d63de82",
   "metadata": {},
   "outputs": [],
   "source": []
  },
  {
   "cell_type": "code",
   "execution_count": null,
   "id": "a0693cb4-0bbd-4c92-9114-3819426e17b9",
   "metadata": {},
   "outputs": [],
   "source": []
  },
  {
   "cell_type": "markdown",
   "id": "64b7a7a1-f0f2-4ff1-a23e-78581ad616a0",
   "metadata": {},
   "source": [
    "#### Put Spread Table"
   ]
  },
  {
   "cell_type": "code",
   "execution_count": 42,
   "id": "cdc792ff-0c3a-4c1c-bbe0-0b7c7d7a8de1",
   "metadata": {},
   "outputs": [],
   "source": [
    "# Calculates payoff at expiry of a %X-%Y put spread given some % move in the underlying\n",
    "def SpreadPut_T(S_0, move_und, OTM_long, OTM_short, prem_long, prem_short):\n",
    "    # Calculate strike prices for the long and short puts\n",
    "    E_long = S_0 * (1 - OTM_long / 100)  # Strike price for the long put\n",
    "    E_short = S_0 * (1 - OTM_short / 100)  # Strike price for the short put\n",
    "    \n",
    "    # Calculate the underlying price at expiry given the move in the underlying\n",
    "    S_T = S_0 * (1 - move_und / 100)\n",
    "    \n",
    "    # Calculate the payoff of the long put\n",
    "    long_put_payoff = max(0, (E_long - S_T) / prem_long)\n",
    "    \n",
    "    # Calculate the payoff of the short put\n",
    "    short_put_payoff = max(0, (E_short - S_T) / prem_short)\n",
    "    \n",
    "    # Net payoff of the put spread\n",
    "    SpreadPut_payoff = long_put_payoff - short_put_payoff\n",
    "    \n",
    "    return SpreadPut_payoff"
   ]
  },
  {
   "cell_type": "code",
   "execution_count": 43,
   "id": "8e135fa4-9875-45d1-bc5b-ded365b66c4d",
   "metadata": {},
   "outputs": [
    {
     "data": {
      "text/plain": [
       "0"
      ]
     },
     "execution_count": 43,
     "metadata": {},
     "output_type": "execute_result"
    }
   ],
   "source": [
    "SpreadPut_T(S_0, 5, 97, 90, 1, 1)"
   ]
  },
  {
   "cell_type": "code",
   "execution_count": null,
   "id": "31d7c15e-c09e-4f31-87b5-02c964ee42e2",
   "metadata": {},
   "outputs": [],
   "source": []
  },
  {
   "cell_type": "markdown",
   "id": "dd7b7828-ebea-48ee-ad15-a7c85636118b",
   "metadata": {},
   "source": [
    "#### OTM Call Table"
   ]
  },
  {
   "cell_type": "code",
   "execution_count": 44,
   "id": "f5ff6f10-8ccb-4bb1-a2c8-81c54ecfc87b",
   "metadata": {},
   "outputs": [],
   "source": [
    "# Calculates payoff at expiry of %OTM call given some % move in the underlying\n",
    "# Note that moves in the underlying and %OTM are input as positive numbers\n",
    "def OTMcall_T(S_0, move_und, OTM, prem):\n",
    "    E = S_0 * (1 + OTM / 100) # Strike as %OTM of S_0\n",
    "    S_T = S_0 * (1 + move_und / 100) # Underlying price at expiry as % move in spot price\n",
    "    #print(\"Strike:\", E)\n",
    "    #print(\"S_T:\", S_T)\n",
    "    return max(0, (S_T - E) / prem)"
   ]
  },
  {
   "cell_type": "code",
   "execution_count": 45,
   "id": "4770cf33-dc47-4bf3-a663-bef96baa04eb",
   "metadata": {},
   "outputs": [],
   "source": [
    "# Give spot price\n",
    "S_0 = 554.99\n",
    "\n",
    "# Define table column and row headers\n",
    "percent_moves = np.array([2.5, 5, 7.5, 10])\n",
    "percent_OTMs = np.array([3, 5, 10, 15])\n",
    "\n",
    "# Array of premia in dollars\n",
    "prems = np.array([1.64, 0.28, 0.08, 0.04])\n",
    "\n",
    "\n",
    "# Create empty dataframe with moves in underlying as columns\n",
    "OTMcall_table = pd.DataFrame(index=percent_OTMs, columns=percent_moves)\n",
    "\n",
    "# Update the dataframe with the new titles for columns and rows\n",
    "OTMcall_table.columns.name = 'Moves in Underlying'\n",
    "OTMcall_table.index.name = '% OTM'\n",
    "\n",
    "for i in OTMcall_table.index:\n",
    "    for j in OTMcall_table.columns:\n",
    "        OTMcall_table.at[i, j] = OTMcall_T(S_0, j, i, prems[np.where(OTMcall_table.index == i)[0][0]])"
   ]
  },
  {
   "cell_type": "code",
   "execution_count": 46,
   "id": "c3c10481-c125-42c6-9501-868cc07fc551",
   "metadata": {},
   "outputs": [
    {
     "data": {
      "text/html": [
       "<div>\n",
       "<style scoped>\n",
       "    .dataframe tbody tr th:only-of-type {\n",
       "        vertical-align: middle;\n",
       "    }\n",
       "\n",
       "    .dataframe tbody tr th {\n",
       "        vertical-align: top;\n",
       "    }\n",
       "\n",
       "    .dataframe thead th {\n",
       "        text-align: right;\n",
       "    }\n",
       "</style>\n",
       "<table border=\"1\" class=\"dataframe\">\n",
       "  <thead>\n",
       "    <tr style=\"text-align: right;\">\n",
       "      <th>Moves in Underlying</th>\n",
       "      <th>2.5</th>\n",
       "      <th>5.0</th>\n",
       "      <th>7.5</th>\n",
       "      <th>10.0</th>\n",
       "    </tr>\n",
       "    <tr>\n",
       "      <th>% OTM</th>\n",
       "      <th></th>\n",
       "      <th></th>\n",
       "      <th></th>\n",
       "      <th></th>\n",
       "    </tr>\n",
       "  </thead>\n",
       "  <tbody>\n",
       "    <tr>\n",
       "      <th>3</th>\n",
       "      <td>0</td>\n",
       "      <td>6.768171</td>\n",
       "      <td>15.228384</td>\n",
       "      <td>23.688598</td>\n",
       "    </tr>\n",
       "    <tr>\n",
       "      <th>5</th>\n",
       "      <td>0</td>\n",
       "      <td>0</td>\n",
       "      <td>49.552679</td>\n",
       "      <td>99.105357</td>\n",
       "    </tr>\n",
       "    <tr>\n",
       "      <th>10</th>\n",
       "      <td>0</td>\n",
       "      <td>0</td>\n",
       "      <td>0</td>\n",
       "      <td>0</td>\n",
       "    </tr>\n",
       "    <tr>\n",
       "      <th>15</th>\n",
       "      <td>0</td>\n",
       "      <td>0</td>\n",
       "      <td>0</td>\n",
       "      <td>0</td>\n",
       "    </tr>\n",
       "  </tbody>\n",
       "</table>\n",
       "</div>"
      ],
      "text/plain": [
       "Moves in Underlying 2.5       5.0        7.5        10.0\n",
       "% OTM                                                   \n",
       "3                      0  6.768171  15.228384  23.688598\n",
       "5                      0         0  49.552679  99.105357\n",
       "10                     0         0          0          0\n",
       "15                     0         0          0          0"
      ]
     },
     "execution_count": 46,
     "metadata": {},
     "output_type": "execute_result"
    }
   ],
   "source": [
    "OTMcall_table"
   ]
  },
  {
   "cell_type": "markdown",
   "id": "97980396-e56c-4692-b707-7f5fab69bf66",
   "metadata": {},
   "source": [
    "#### Combnined Strategy Table"
   ]
  },
  {
   "cell_type": "code",
   "execution_count": 47,
   "id": "5141b344-40ce-4257-a75e-c7cde5b91fb4",
   "metadata": {},
   "outputs": [],
   "source": [
    "# Calculates payoff at expiry of %OTM put given some % move in the underlying\n",
    "# Note that moves in the underlying and %OTM are input as positive numbers\n",
    "def OTMput_T(S_0, move_und, OTM, prem):\n",
    "    E = S_0 * (1 - OTM / 100) # Strike as %OTM of S_0\n",
    "    S_T = S_0 * (1 - move_und / 100) # Underlying price at expiry as % move in spot price\n",
    "    #print(\"Strike:\", E)\n",
    "    #print(\"S_T:\", S_T)\n",
    "    return max(0, (E - S_T) / prem)\n",
    "\n",
    "# Calculates payoff at expiry of %OTM call given some % move in the underlying\n",
    "# Note that moves in the underlying and %OTM are input as positive numbers\n",
    "def OTMcall_T(S_0, move_und, OTM, prem):\n",
    "    E = S_0 * (1 + OTM / 100) # Strike as %OTM of S_0\n",
    "    S_T = S_0 * (1 + move_und / 100) # Underlying price at expiry as % move in spot price\n",
    "    #print(\"Strike:\", E)\n",
    "    #print(\"S_T:\", S_T)\n",
    "    return max(0, (S_T - E) / prem)"
   ]
  },
  {
   "cell_type": "code",
   "execution_count": 48,
   "id": "39f32600-304c-4e9c-b8ed-2e522e07944b",
   "metadata": {},
   "outputs": [],
   "source": [
    "# Spot price\n",
    "S_0 = 554.99\n",
    "\n",
    "# %OTM put option\n",
    "percent_moves = np.array([2.5, 5, 7.5, 10])\n",
    "percent_OTMs = np.array([0, 3, 5, 10, 15])\n",
    "\n",
    "# Array of premia in dollars for puts\n",
    "prems_puts = np.array([6.33, 2.09, 1.09, 0.37, 0.08])\n",
    "\n",
    "# Create empty dataframe with moves in underlying as columns\n",
    "OTMput_table = pd.DataFrame(index=percent_OTMs, columns=percent_moves)\n",
    "\n",
    "# Update the dataframe with the new titles for columns and rows\n",
    "OTMput_table.columns.name = 'Moves in Underlying'\n",
    "OTMput_table.index.name = '% OTM'\n",
    "\n",
    "for i in OTMput_table.index:\n",
    "    for j in OTMput_table.columns:\n",
    "        OTMput_table.at[i, j] = round(OTMput_T(S_0, j, i, prems_puts[np.where(OTMput_table.index == i)[0][0]]), 2)\n",
    "\n",
    "# %OTM call option\n",
    "# Array of premia in dollars for calls\n",
    "prems_calls = np.array([8.41, 1.64, 0.28, 0.08, 0.04])\n",
    "\n",
    "# Create empty dataframe with moves in underlying as columns\n",
    "OTMcall_table = pd.DataFrame(index=percent_OTMs, columns=percent_moves)\n",
    "\n",
    "# Update the dataframe with the new titles for columns and rows\n",
    "OTMcall_table.columns.name = 'Moves in Underlying'\n",
    "OTMcall_table.index.name = '% OTM'\n",
    "\n",
    "for i in OTMcall_table.index:\n",
    "    for j in OTMcall_table.columns:\n",
    "        OTMcall_table.at[i, j] = round(OTMcall_T(S_0, j, i, prems_calls[np.where(OTMcall_table.index == i)[0][0]]), 2)"
   ]
  },
  {
   "cell_type": "code",
   "execution_count": 54,
   "id": "73630191-ce11-4c44-a66e-31e19a0c1286",
   "metadata": {},
   "outputs": [
    {
     "data": {
      "text/plain": [
       "array([ 2.5,  5. ,  7.5, 10. ])"
      ]
     },
     "execution_count": 54,
     "metadata": {},
     "output_type": "execute_result"
    }
   ],
   "source": [
    "percent_moves"
   ]
  },
  {
   "cell_type": "code",
   "execution_count": 49,
   "id": "d96f479f-a946-4769-96c3-c254a066e518",
   "metadata": {},
   "outputs": [
    {
     "data": {
      "text/html": [
       "<div>\n",
       "<style scoped>\n",
       "    .dataframe tbody tr th:only-of-type {\n",
       "        vertical-align: middle;\n",
       "    }\n",
       "\n",
       "    .dataframe tbody tr th {\n",
       "        vertical-align: top;\n",
       "    }\n",
       "\n",
       "    .dataframe thead th {\n",
       "        text-align: right;\n",
       "    }\n",
       "</style>\n",
       "<table border=\"1\" class=\"dataframe\">\n",
       "  <thead>\n",
       "    <tr style=\"text-align: right;\">\n",
       "      <th>Moves in Underlying</th>\n",
       "      <th>2.5</th>\n",
       "      <th>5.0</th>\n",
       "      <th>7.5</th>\n",
       "      <th>10.0</th>\n",
       "    </tr>\n",
       "    <tr>\n",
       "      <th>% OTM</th>\n",
       "      <th></th>\n",
       "      <th></th>\n",
       "      <th></th>\n",
       "      <th></th>\n",
       "    </tr>\n",
       "  </thead>\n",
       "  <tbody>\n",
       "    <tr>\n",
       "      <th>0</th>\n",
       "      <td>1.65</td>\n",
       "      <td>3.3</td>\n",
       "      <td>4.95</td>\n",
       "      <td>6.6</td>\n",
       "    </tr>\n",
       "    <tr>\n",
       "      <th>3</th>\n",
       "      <td>0</td>\n",
       "      <td>6.77</td>\n",
       "      <td>15.23</td>\n",
       "      <td>23.69</td>\n",
       "    </tr>\n",
       "    <tr>\n",
       "      <th>5</th>\n",
       "      <td>0</td>\n",
       "      <td>0</td>\n",
       "      <td>49.55</td>\n",
       "      <td>99.11</td>\n",
       "    </tr>\n",
       "    <tr>\n",
       "      <th>10</th>\n",
       "      <td>0</td>\n",
       "      <td>0</td>\n",
       "      <td>0</td>\n",
       "      <td>0</td>\n",
       "    </tr>\n",
       "    <tr>\n",
       "      <th>15</th>\n",
       "      <td>0</td>\n",
       "      <td>0</td>\n",
       "      <td>0</td>\n",
       "      <td>0</td>\n",
       "    </tr>\n",
       "  </tbody>\n",
       "</table>\n",
       "</div>"
      ],
      "text/plain": [
       "Moves in Underlying  2.5   5.0    7.5    10.0\n",
       "% OTM                                        \n",
       "0                    1.65   3.3   4.95    6.6\n",
       "3                       0  6.77  15.23  23.69\n",
       "5                       0     0  49.55  99.11\n",
       "10                      0     0      0      0\n",
       "15                      0     0      0      0"
      ]
     },
     "execution_count": 49,
     "metadata": {},
     "output_type": "execute_result"
    }
   ],
   "source": [
    "OTMcall_table"
   ]
  },
  {
   "cell_type": "code",
   "execution_count": 50,
   "id": "9d078e6e-2a87-4bb9-9f5a-107b152cbbaa",
   "metadata": {},
   "outputs": [
    {
     "data": {
      "text/html": [
       "<div>\n",
       "<style scoped>\n",
       "    .dataframe tbody tr th:only-of-type {\n",
       "        vertical-align: middle;\n",
       "    }\n",
       "\n",
       "    .dataframe tbody tr th {\n",
       "        vertical-align: top;\n",
       "    }\n",
       "\n",
       "    .dataframe thead th {\n",
       "        text-align: right;\n",
       "    }\n",
       "</style>\n",
       "<table border=\"1\" class=\"dataframe\">\n",
       "  <thead>\n",
       "    <tr style=\"text-align: right;\">\n",
       "      <th>Moves in Underlying</th>\n",
       "      <th>2.5</th>\n",
       "      <th>5.0</th>\n",
       "      <th>7.5</th>\n",
       "      <th>10.0</th>\n",
       "    </tr>\n",
       "    <tr>\n",
       "      <th>% OTM</th>\n",
       "      <th></th>\n",
       "      <th></th>\n",
       "      <th></th>\n",
       "      <th></th>\n",
       "    </tr>\n",
       "  </thead>\n",
       "  <tbody>\n",
       "    <tr>\n",
       "      <th>0</th>\n",
       "      <td>2.19</td>\n",
       "      <td>4.38</td>\n",
       "      <td>6.58</td>\n",
       "      <td>8.77</td>\n",
       "    </tr>\n",
       "    <tr>\n",
       "      <th>3</th>\n",
       "      <td>0</td>\n",
       "      <td>5.31</td>\n",
       "      <td>11.95</td>\n",
       "      <td>18.59</td>\n",
       "    </tr>\n",
       "    <tr>\n",
       "      <th>5</th>\n",
       "      <td>0</td>\n",
       "      <td>0</td>\n",
       "      <td>12.73</td>\n",
       "      <td>25.46</td>\n",
       "    </tr>\n",
       "    <tr>\n",
       "      <th>10</th>\n",
       "      <td>0</td>\n",
       "      <td>0</td>\n",
       "      <td>0</td>\n",
       "      <td>0</td>\n",
       "    </tr>\n",
       "    <tr>\n",
       "      <th>15</th>\n",
       "      <td>0</td>\n",
       "      <td>0</td>\n",
       "      <td>0</td>\n",
       "      <td>0</td>\n",
       "    </tr>\n",
       "  </tbody>\n",
       "</table>\n",
       "</div>"
      ],
      "text/plain": [
       "Moves in Underlying  2.5   5.0    7.5    10.0\n",
       "% OTM                                        \n",
       "0                    2.19  4.38   6.58   8.77\n",
       "3                       0  5.31  11.95  18.59\n",
       "5                       0     0  12.73  25.46\n",
       "10                      0     0      0      0\n",
       "15                      0     0      0      0"
      ]
     },
     "execution_count": 50,
     "metadata": {},
     "output_type": "execute_result"
    }
   ],
   "source": [
    "OTMput_table"
   ]
  },
  {
   "cell_type": "markdown",
   "id": "655ffed3-82d9-40f4-b69a-d6e5997476f2",
   "metadata": {},
   "source": [
    "### Excel"
   ]
  },
  {
   "cell_type": "code",
   "execution_count": 51,
   "id": "d7a14e55-5081-4055-93ef-37a7d50db935",
   "metadata": {},
   "outputs": [],
   "source": [
    "import xlwings as xw"
   ]
  },
  {
   "cell_type": "code",
   "execution_count": 11,
   "id": "c406c098-254e-4733-b318-6b191bd1390c",
   "metadata": {},
   "outputs": [
    {
     "data": {
      "text/plain": [
       "[2.0, 'Inputs', 'Underlying', 'SPY']"
      ]
     },
     "execution_count": 11,
     "metadata": {},
     "output_type": "execute_result"
    }
   ],
   "source": [
    "xw.Range('B1:B4').value"
   ]
  },
  {
   "cell_type": "code",
   "execution_count": 16,
   "id": "0517cb6e-ea83-436e-a225-8c685959805a",
   "metadata": {},
   "outputs": [],
   "source": [
    "test = np.array([1,2,3]).T"
   ]
  },
  {
   "cell_type": "code",
   "execution_count": 56,
   "id": "b79eefc9-fef7-4c1a-9abc-744681fcf577",
   "metadata": {},
   "outputs": [],
   "source": [
    "xw.Range('A1:A3').value = [[1], [2], [3]]"
   ]
  },
  {
   "cell_type": "code",
   "execution_count": 52,
   "id": "639ee00f-f43a-433b-a1a5-5f6c70053c72",
   "metadata": {},
   "outputs": [
    {
     "data": {
      "text/html": [
       "<div>\n",
       "<style scoped>\n",
       "    .dataframe tbody tr th:only-of-type {\n",
       "        vertical-align: middle;\n",
       "    }\n",
       "\n",
       "    .dataframe tbody tr th {\n",
       "        vertical-align: top;\n",
       "    }\n",
       "\n",
       "    .dataframe thead th {\n",
       "        text-align: right;\n",
       "    }\n",
       "</style>\n",
       "<table border=\"1\" class=\"dataframe\">\n",
       "  <thead>\n",
       "    <tr style=\"text-align: right;\">\n",
       "      <th>Moves in Underlying</th>\n",
       "      <th>2.5</th>\n",
       "      <th>5.0</th>\n",
       "      <th>7.5</th>\n",
       "      <th>10.0</th>\n",
       "    </tr>\n",
       "    <tr>\n",
       "      <th>% OTM</th>\n",
       "      <th></th>\n",
       "      <th></th>\n",
       "      <th></th>\n",
       "      <th></th>\n",
       "    </tr>\n",
       "  </thead>\n",
       "  <tbody>\n",
       "    <tr>\n",
       "      <th>0</th>\n",
       "      <td>1.65</td>\n",
       "      <td>3.3</td>\n",
       "      <td>4.95</td>\n",
       "      <td>6.6</td>\n",
       "    </tr>\n",
       "    <tr>\n",
       "      <th>3</th>\n",
       "      <td>0</td>\n",
       "      <td>6.77</td>\n",
       "      <td>15.23</td>\n",
       "      <td>23.69</td>\n",
       "    </tr>\n",
       "    <tr>\n",
       "      <th>5</th>\n",
       "      <td>0</td>\n",
       "      <td>0</td>\n",
       "      <td>49.55</td>\n",
       "      <td>99.11</td>\n",
       "    </tr>\n",
       "    <tr>\n",
       "      <th>10</th>\n",
       "      <td>0</td>\n",
       "      <td>0</td>\n",
       "      <td>0</td>\n",
       "      <td>0</td>\n",
       "    </tr>\n",
       "    <tr>\n",
       "      <th>15</th>\n",
       "      <td>0</td>\n",
       "      <td>0</td>\n",
       "      <td>0</td>\n",
       "      <td>0</td>\n",
       "    </tr>\n",
       "  </tbody>\n",
       "</table>\n",
       "</div>"
      ],
      "text/plain": [
       "Moves in Underlying  2.5   5.0    7.5    10.0\n",
       "% OTM                                        \n",
       "0                    1.65   3.3   4.95    6.6\n",
       "3                       0  6.77  15.23  23.69\n",
       "5                       0     0  49.55  99.11\n",
       "10                      0     0      0      0\n",
       "15                      0     0      0      0"
      ]
     },
     "execution_count": 52,
     "metadata": {},
     "output_type": "execute_result"
    }
   ],
   "source": [
    "OTMcall_table"
   ]
  },
  {
   "cell_type": "code",
   "execution_count": 53,
   "id": "b758b72d-1576-43da-a483-2c0117b977c2",
   "metadata": {},
   "outputs": [],
   "source": [
    "xw.Range('B15:F20').value = OTMcall_table"
   ]
  },
  {
   "cell_type": "code",
   "execution_count": null,
   "id": "eb663297-fdb6-469c-953a-ea820fb762cd",
   "metadata": {},
   "outputs": [],
   "source": []
  }
 ],
 "metadata": {
  "kernelspec": {
   "display_name": "Python 3 (ipykernel)",
   "language": "python",
   "name": "python3"
  },
  "language_info": {
   "codemirror_mode": {
    "name": "ipython",
    "version": 3
   },
   "file_extension": ".py",
   "mimetype": "text/x-python",
   "name": "python",
   "nbconvert_exporter": "python",
   "pygments_lexer": "ipython3",
   "version": "3.12.4"
  }
 },
 "nbformat": 4,
 "nbformat_minor": 5
}
