{
 "cells": [
  {
   "cell_type": "code",
   "execution_count": 25,
   "id": "7d129d27-85cf-4eb3-81ef-8ed1727cea76",
   "metadata": {},
   "outputs": [],
   "source": [
    "import pandas as pd\n",
    "import numpy as np\n",
    "import xlwings as xw\n",
    "from datetime import datetime, timedelta\n",
    "import re"
   ]
  },
  {
   "cell_type": "markdown",
   "id": "9afcb25d-41f0-4a0b-9e9a-e60764476213",
   "metadata": {},
   "source": [
    "Connect to Excel"
   ]
  },
  {
   "cell_type": "code",
   "execution_count": 26,
   "id": "a8a69854-249f-4f22-b124-f379e11f0c5a",
   "metadata": {},
   "outputs": [],
   "source": [
    "# Define the path to your Excel file\n",
    "excel_file_path = r\"C:\\Users\\skosloff\\OneDrive - MSD Partners (Legacy)\\OptionsTool.xlsx\"\n",
    "\n",
    "workbook = xw.Book(excel_file_path)\n",
    "\n",
    "# Select the specific sheet\n",
    "sheet1 = workbook.sheets[\"Sheet1\"]\n",
    "sheet2 = workbook.sheets[\"Sheet2\"]\n"
   ]
  },
  {
   "cell_type": "markdown",
   "id": "fc3dd529-9be7-4a36-b4b3-0dff1812f80b",
   "metadata": {},
   "source": [
    "Payoff Calculations"
   ]
  },
  {
   "cell_type": "markdown",
   "id": "723f526d-130a-418e-8566-cfced07a47d8",
   "metadata": {},
   "source": [
    "Call"
   ]
  },
  {
   "cell_type": "code",
   "execution_count": 27,
   "id": "43d000cf-9848-44a3-bdad-598d6cfde4d0",
   "metadata": {},
   "outputs": [],
   "source": [
    "# Calculates payoff at expiry of %OTM call given some % move in the underlying\n",
    "# Note that moves in the underlying and %OTM are input as positive numbers\n",
    "def OTMcall_T(S_0, move_und, OTM, prem):\n",
    "    E = S_0 * (1 + OTM) # Strike as %OTM of S_0\n",
    "    S_T = S_0 * (1 + move_und) # Underlying price at expiry as % move in spot price\n",
    "    #print(\"Strike:\", E)\n",
    "    #print(\"S_T:\", S_T)\n",
    "    return max(0, (S_T - E) / prem)"
   ]
  },
  {
   "cell_type": "markdown",
   "id": "ceb8ccb3-6fd0-4168-8b82-eff44b109a71",
   "metadata": {},
   "source": [
    "Put"
   ]
  },
  {
   "cell_type": "code",
   "execution_count": 28,
   "id": "17c9cd9d-528a-4895-852a-b29299151be0",
   "metadata": {},
   "outputs": [],
   "source": [
    "# Calculates payoff at expiry of %OTM call given some % move in the underlying\n",
    "# Note that moves in the underlying and %OTM are input as positive numbers\n",
    "def OTMput_T(S_0, move_und, OTM, prem):\n",
    "    E = S_0 * (1 - OTM) # Strike as %OTM of S_0\n",
    "    S_T = S_0 * (1 - move_und) # Underlying price at expiry as % move in spot price\n",
    "    return max(0, (E - S_T) / prem)"
   ]
  },
  {
   "cell_type": "markdown",
   "id": "3cc68042-492e-4674-9514-09eea866e5bf",
   "metadata": {},
   "source": [
    "Spread"
   ]
  },
  {
   "cell_type": "code",
   "execution_count": 94,
   "id": "5a436a5c-0158-4518-8aa4-98d513eeed6f",
   "metadata": {},
   "outputs": [],
   "source": [
    "def put_spread(S_0, move_und, X, Y, put_chain):\n",
    "    # Converting into %OTM amounts\n",
    "    X = (100 - float(X)) / 100 \n",
    "    Y = (100 - float(Y)) / 100\n",
    "\n",
    "    prem_X = float(f\"{put_chain[closest_strike(S_0 * (1 - X), put_chain)][1]:.2f}\") # Premium of X% OTM (buy)\n",
    "    prem_Y = float(f\"{put_chain[closest_strike(S_0 * (1 - Y), put_chain)][1]:.2f}\") # Premium of Y% OTM (sell)\n",
    "    \n",
    "    strike_buy = S_0 * (1 - X) # Strike price of X% OTM put\n",
    "    S_T = S_0 * (1 - move_und) # Price of underlying at expiry after % move\n",
    "    prem_spread = prem_X - prem_Y # Cost of spread strategy\n",
    "    \n",
    "    return max(0, (strike_buy - S_T) / prem_spread)   "
   ]
  },
  {
   "cell_type": "markdown",
   "id": "0bafd5dd-0db9-4557-b62f-0acdc6f374e0",
   "metadata": {},
   "source": [
    "Populate Premia"
   ]
  },
  {
   "cell_type": "code",
   "execution_count": 30,
   "id": "2fe6ea5d-4f65-4752-bd5c-46ff8b69fe36",
   "metadata": {},
   "outputs": [],
   "source": [
    "# Define a function which finds the option with the closest strike price to x\n",
    "def closest_strike(x, chain):\n",
    "    # Extract strike prices from the option strings and convert to float\n",
    "    strike_prices = [float(item[0].split()[3][1:]) for item in chain]\n",
    "    \n",
    "    # Find the index of the strike price with the minimum absolute difference from x\n",
    "    closest_index = min(range(len(strike_prices)), key=lambda i: abs(x - strike_prices[i]))\n",
    "    \n",
    "    return closest_index"
   ]
  },
  {
   "cell_type": "code",
   "execution_count": 31,
   "id": "5f2bd017-9667-44de-9058-c0ece56a7793",
   "metadata": {},
   "outputs": [],
   "source": [
    "def populate_chains():\n",
    "    # Define variable with ticker from Excel\n",
    "    ticker = sheet1.range('B4').value\n",
    "    \n",
    "    # Get term and date\n",
    "    term = int(sheet1.range('D4').value.split(\" \")[0])\n",
    "    date = (datetime.now() + timedelta(days=term)).strftime('%Y-%m-%d')\n",
    "    \n",
    "    # Populate Excel sheet with call option ask prices\n",
    "    sheet2.range('B2').value = f'=@BQL(\"filter(filter(options(\\'{ticker}\\'), EXPIRE_DT=={date}), put_call==\\'Call\\')\",\"SECURITY_DES().value, PX_ASK().value, EXPIRE_DT().value\",\"mode=cached\")'\n",
    "    \n",
    "    # Populate Excel sheet with put option prices\n",
    "    sheet2.range('J2').value = f'=@BQL(\"filter(filter(options(\\'{ticker}\\'), EXPIRE_DT=={date}), put_call==\\'Put\\')\",\"SECURITY_DES().value, PX_ASK().value, EXPIRE_DT().value\",\"mode=cached\")'"
   ]
  },
  {
   "cell_type": "code",
   "execution_count": 32,
   "id": "131f6e18-14a0-4f3e-9434-4da9207fa267",
   "metadata": {},
   "outputs": [],
   "source": [
    "def populate_premia():\n",
    "    # Load option chain from Excel sheet\n",
    "    call_chain = sheet2.range('C3:D200').value\n",
    "    call_chain = [sublist for sublist in call_chain if None not in sublist]\n",
    "    \n",
    "    # Given spot price\n",
    "    S_0 = float(sheet1.range('C4').value)\n",
    "    \n",
    "    # Define table column and row headers\n",
    "    percent_moves = np.array([float(value) for value in sheet1.range('I7:L7').value])\n",
    "    percent_OTMs = np.array([float(value) for value in sheet1.range('H8:H12').value])\n",
    "    OTMs = (S_0 * (1 + percent_OTMs)).astype(int) # Array of strike prices in dollars\n",
    "    \n",
    "    # Get premia from Excel via Bloomberg\n",
    "    call_prems = [f\"{call_chain[closest_strike(strike, call_chain)][1]:.2f}\" for strike in OTMs]\n",
    "    call_prems = [float(prem) for prem in call_prems]\n",
    "    \n",
    "    put_chain = sheet2.range('K3:L200').value\n",
    "    put_chain = [sublist for sublist in put_chain if None not in sublist]\n",
    "    \n",
    "    put_prems = [f\"{put_chain[closest_strike(strike, put_chain)][1]:.2f}\" for strike in OTMs]\n",
    "    put_prems = [float(prem) for prem in put_prems]\n",
    "\n",
    "    \n",
    "    # Put premia in Excel\n",
    "    sheet1.range('G8').value = np.array(call_prems).reshape(-1, 1)\n",
    "    sheet1.range('G19').value = np.array(put_prems).reshape(-1, 1)"
   ]
  },
  {
   "cell_type": "code",
   "execution_count": 33,
   "id": "734472bd-eadd-40a9-b77b-edfa09d73b5e",
   "metadata": {},
   "outputs": [],
   "source": [
    "populate_chains()"
   ]
  },
  {
   "cell_type": "code",
   "execution_count": 34,
   "id": "ec910afc-2724-48a7-9a6d-2a3c0ca134e7",
   "metadata": {},
   "outputs": [],
   "source": [
    "populate_premia()"
   ]
  },
  {
   "cell_type": "markdown",
   "id": "d7ca77a1-f69a-4782-aac3-4111a3a1976b",
   "metadata": {},
   "source": [
    "Populate Excel Table with Payoffs"
   ]
  },
  {
   "cell_type": "markdown",
   "id": "0f510a65-d4ae-471b-a234-19e0aaa13be3",
   "metadata": {},
   "source": [
    "Calls"
   ]
  },
  {
   "cell_type": "code",
   "execution_count": 35,
   "id": "5a9b8a4b-3c5c-41f9-948d-f225410bb5ba",
   "metadata": {},
   "outputs": [],
   "source": [
    "def populate_call_table():\n",
    "    # Given spot price\n",
    "    S_0 = float(sheet1.range('C4').value)\n",
    "    \n",
    "    # Create empty dataframe with moves in underlying as columns\n",
    "    percent_moves = np.array([float(value) for value in sheet1.range('I7:L7').value])\n",
    "    percent_OTMs = np.array([float(value) for value in sheet1.range('H8:H12').value])\n",
    "    OTMcall_table = pd.DataFrame(index=percent_OTMs, columns=percent_moves)\n",
    "    \n",
    "    # Update the dataframe with the new titles for columns and rows\n",
    "    OTMcall_table.columns.name = 'Moves in Underlying'\n",
    "    OTMcall_table.index.name = '% OTM'\n",
    "    \n",
    "    # Get premia from Excel\n",
    "    call_prems = [float(prem) for prem in sheet1.range('G8:G12').value]\n",
    "    \n",
    "    for i in OTMcall_table.index:\n",
    "        for j in OTMcall_table.columns:\n",
    "            OTMcall_table.at[i, j] = OTMcall_T(S_0, j, i, call_prems[np.where(OTMcall_table.index == i)[0][0]])\n",
    "    \n",
    "    # Load call table into Excel sheet\n",
    "    sheet1.range('I8:L12').value = OTMcall_table.values\n",
    "    \n",
    "    # Update dollar amount moves in underlying in Excel sheet\n",
    "    sheet1.range('I6:L6').value = float(sheet1.range('C4').value) * ( 1 + percent_moves)"
   ]
  },
  {
   "cell_type": "markdown",
   "id": "da8d4712-fac5-49a6-9aa3-4d9d7f559b42",
   "metadata": {},
   "source": [
    "Puts"
   ]
  },
  {
   "cell_type": "code",
   "execution_count": 36,
   "id": "86392db7-7d08-48fd-9f4a-104a31b8deef",
   "metadata": {},
   "outputs": [],
   "source": [
    "def populate_put_table():\n",
    "    # Given spot price\n",
    "    S_0 = float(sheet1.range('C4').value)\n",
    "    \n",
    "    # Create empty dataframe with moves in underlying as columns\n",
    "    percent_OTMs = np.array([float(value) for value in sheet1.range('H19:H23').value])\n",
    "    percent_moves = np.array([float(value) for value in sheet1.range('I18:L18').value])\n",
    "    \n",
    "    OTMput_table = pd.DataFrame(index=percent_OTMs, columns=percent_moves)\n",
    "    \n",
    "    # Update the dataframe with the new titles for columns and rows\n",
    "    OTMput_table.columns.name = 'Moves in Underlying'\n",
    "    OTMput_table.index.name = '% OTM'\n",
    "    \n",
    "    # Get premia from Excel\n",
    "    put_prems = [float(prem) for prem in sheet1.range('G19:G23').value]\n",
    "    \n",
    "    for i in OTMput_table.index:\n",
    "        for j in OTMput_table.columns:\n",
    "            OTMput_table.at[i, j] = OTMput_T(S_0, j, i, put_prems[np.where(OTMput_table.index == i)[0][0]])\n",
    "    \n",
    "    # Load call table into Excel sheet\n",
    "    sheet1.range('I19:L23').value = OTMput_table.values\n",
    "    \n",
    "    # Update dollar amount moves in underlying in Excel sheet\n",
    "    sheet1.range('I17:L17').value = float(sheet1.range('C4').value) * ( 1 - percent_moves)"
   ]
  },
  {
   "cell_type": "code",
   "execution_count": 37,
   "id": "84e1ab47-c2ba-4b3e-b022-02d280634409",
   "metadata": {},
   "outputs": [],
   "source": [
    "populate_call_table()"
   ]
  },
  {
   "cell_type": "code",
   "execution_count": 38,
   "id": "b3e63c0c-8671-438b-8a65-a65dd54c93ff",
   "metadata": {},
   "outputs": [],
   "source": [
    "populate_put_table()"
   ]
  },
  {
   "cell_type": "markdown",
   "id": "14b8ee1d-74eb-4479-99b2-b63281a79d66",
   "metadata": {},
   "source": [
    "Spreads"
   ]
  },
  {
   "cell_type": "code",
   "execution_count": 102,
   "id": "5f5382ef-4972-4c54-95fc-0570a08e5cb6",
   "metadata": {},
   "outputs": [],
   "source": [
    "def populate_spread_table():\n",
    "    # Given spot price\n",
    "    S_0 = float(sheet1.range('C4').value)\n",
    "    \n",
    "    # Create empty dataframe with moves in underlying as columns\n",
    "    XY = sheet1.range('H29:H33').value\n",
    "    percent_moves = np.array([float(value) for value in sheet1.range('I18:L18').value])\n",
    "    \n",
    "    spread_table = pd.DataFrame(index=XY, columns=percent_moves)\n",
    "    \n",
    "    for i in spread_table.index:\n",
    "        for j in spread_table.columns:\n",
    "            spread_table.at[i, j] = put_spread(S_0, j, i.split('-')[0], i.split('-')[1], put_chain)\n",
    "        \n",
    "    # Load call table into Excel sheet\n",
    "    sheet1.range('I29:L33').value = spread_table.values\n",
    "\n",
    "    # Update dollar amount moves in underlying in Excel sheet\n",
    "    sheet1.range('I27:L27').value = float(sheet1.range('C4').value) * ( 1 - percent_moves)"
   ]
  },
  {
   "cell_type": "code",
   "execution_count": 103,
   "id": "34100c41-39bf-4a6e-a24c-1ebb2fef39f3",
   "metadata": {},
   "outputs": [],
   "source": [
    "populate_spread_table()"
   ]
  },
  {
   "cell_type": "code",
   "execution_count": 59,
   "id": "908bcaa5-a7f9-486d-ae5f-ea67325abd9c",
   "metadata": {},
   "outputs": [],
   "source": []
  },
  {
   "cell_type": "code",
   "execution_count": 97,
   "id": "1f8c4de8-a443-4471-992f-8a8101c7a2a3",
   "metadata": {},
   "outputs": [],
   "source": [
    "put_chain = sheet2.range('K3:L200').value\n",
    "put_chain = [sublist for sublist in put_chain if None not in sublist]"
   ]
  },
  {
   "cell_type": "code",
   "execution_count": 98,
   "id": "06fa007d-23f6-4455-b1fb-a6630e30b366",
   "metadata": {},
   "outputs": [],
   "source": [
    "# Given spot price\n",
    "S_0 = float(sheet1.range('C4').value)\n",
    "\n",
    "# Create empty dataframe with moves in underlying as columns\n",
    "XY = sheet1.range('H29:H33').value\n",
    "percent_moves = np.array([float(value) for value in sheet1.range('I18:L18').value])\n",
    "\n",
    "spread_table = pd.DataFrame(index=XY, columns=percent_moves)\n",
    "\n",
    "for i in spread_table.index:\n",
    "    for j in spread_table.columns:\n",
    "        spread_table.at[i, j] = put_spread(S_0, j, i.split('-')[0], i.split('-')[1], put_chain)"
   ]
  },
  {
   "cell_type": "code",
   "execution_count": null,
   "id": "4ecadbd0-dacd-435f-8d0d-8cea70158d80",
   "metadata": {},
   "outputs": [],
   "source": []
  },
  {
   "cell_type": "code",
   "execution_count": 99,
   "id": "0aae717e-1f98-43c4-beef-1b2427800a68",
   "metadata": {},
   "outputs": [
    {
     "data": {
      "text/html": [
       "<div>\n",
       "<style scoped>\n",
       "    .dataframe tbody tr th:only-of-type {\n",
       "        vertical-align: middle;\n",
       "    }\n",
       "\n",
       "    .dataframe tbody tr th {\n",
       "        vertical-align: top;\n",
       "    }\n",
       "\n",
       "    .dataframe thead th {\n",
       "        text-align: right;\n",
       "    }\n",
       "</style>\n",
       "<table border=\"1\" class=\"dataframe\">\n",
       "  <thead>\n",
       "    <tr style=\"text-align: right;\">\n",
       "      <th></th>\n",
       "      <th>0.025</th>\n",
       "      <th>0.050</th>\n",
       "      <th>0.075</th>\n",
       "      <th>0.100</th>\n",
       "    </tr>\n",
       "  </thead>\n",
       "  <tbody>\n",
       "    <tr>\n",
       "      <th>100-90</th>\n",
       "      <td>1.988014</td>\n",
       "      <td>3.976028</td>\n",
       "      <td>5.964043</td>\n",
       "      <td>7.952057</td>\n",
       "    </tr>\n",
       "    <tr>\n",
       "      <th>100-80</th>\n",
       "      <td>1.841721</td>\n",
       "      <td>3.683443</td>\n",
       "      <td>5.525164</td>\n",
       "      <td>7.366886</td>\n",
       "    </tr>\n",
       "    <tr>\n",
       "      <th>100-70</th>\n",
       "      <td>1.792263</td>\n",
       "      <td>3.584527</td>\n",
       "      <td>5.37679</td>\n",
       "      <td>7.169054</td>\n",
       "    </tr>\n",
       "    <tr>\n",
       "      <th>97-90</th>\n",
       "      <td>0</td>\n",
       "      <td>4.215188</td>\n",
       "      <td>9.484173</td>\n",
       "      <td>14.753158</td>\n",
       "    </tr>\n",
       "    <tr>\n",
       "      <th>95-85</th>\n",
       "      <td>0</td>\n",
       "      <td>0</td>\n",
       "      <td>8.008857</td>\n",
       "      <td>16.017714</td>\n",
       "    </tr>\n",
       "  </tbody>\n",
       "</table>\n",
       "</div>"
      ],
      "text/plain": [
       "           0.025     0.050     0.075      0.100\n",
       "100-90  1.988014  3.976028  5.964043   7.952057\n",
       "100-80  1.841721  3.683443  5.525164   7.366886\n",
       "100-70  1.792263  3.584527   5.37679   7.169054\n",
       "97-90          0  4.215188  9.484173  14.753158\n",
       "95-85          0         0  8.008857  16.017714"
      ]
     },
     "execution_count": 99,
     "metadata": {},
     "output_type": "execute_result"
    }
   ],
   "source": [
    "spread_table"
   ]
  },
  {
   "cell_type": "code",
   "execution_count": 66,
   "id": "91261657-17dc-42a1-ae9a-e5613947e756",
   "metadata": {},
   "outputs": [
    {
     "name": "stdout",
     "output_type": "stream",
     "text": [
      "100\n",
      "97\n",
      "95\n",
      "100\n",
      "100\n"
     ]
    }
   ],
   "source": [
    "for i in spread_table.index:\n",
    "    print(int(i.split('-')[0]))"
   ]
  },
  {
   "cell_type": "code",
   "execution_count": 56,
   "id": "427b7d73-46ec-4772-b394-c3d684b28393",
   "metadata": {},
   "outputs": [
    {
     "data": {
      "text/plain": [
       "[['100', '90'], ['97', '90'], ['95', '85'], ['100', '80'], ['100', '70']]"
      ]
     },
     "execution_count": 56,
     "metadata": {},
     "output_type": "execute_result"
    }
   ],
   "source": [
    "XY"
   ]
  },
  {
   "cell_type": "code",
   "execution_count": null,
   "id": "12507673-993d-48fe-a16e-7b6001b1c986",
   "metadata": {},
   "outputs": [],
   "source": []
  }
 ],
 "metadata": {
  "kernelspec": {
   "display_name": "Python 3 (ipykernel)",
   "language": "python",
   "name": "python3"
  },
  "language_info": {
   "codemirror_mode": {
    "name": "ipython",
    "version": 3
   },
   "file_extension": ".py",
   "mimetype": "text/x-python",
   "name": "python",
   "nbconvert_exporter": "python",
   "pygments_lexer": "ipython3",
   "version": "3.12.4"
  }
 },
 "nbformat": 4,
 "nbformat_minor": 5
}
